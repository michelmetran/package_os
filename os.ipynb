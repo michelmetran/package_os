{
 "cells": [
  {
   "cell_type": "markdown",
   "metadata": {},
   "source": [
    "---\n",
    "layout: post\n",
    "title: OS\n",
    "subtitle: Exercícios e Referências\n",
    "tags: [python, pycharm, jupyter, package, os]\n",
    "image: /img/posts/pandas_icon.png\n",
    "bigimg: /img/posts/pandas_big.png\n",
    "gh-repo: michelmetran/package_os\n",
    "gh-badge: [follow, star, watch, fork]\n",
    "comments: true\n",
    "\n",
    "---"
   ]
  },
  {
   "cell_type": "markdown",
   "metadata": {},
   "source": [
    "# Caminhos e endereços"
   ]
  },
  {
   "cell_type": "code",
   "execution_count": null,
   "metadata": {},
   "outputs": [],
   "source": [
    "import os"
   ]
  },
  {
   "cell_type": "code",
   "execution_count": null,
   "metadata": {},
   "outputs": [],
   "source": [
    "# Pasta Atual\n",
    "os.getcwd()"
   ]
  },
  {
   "cell_type": "code",
   "execution_count": null,
   "metadata": {},
   "outputs": [],
   "source": [
    "# Altera a pasta\n",
    "os.chdir('/home/michel/Documents/Geodata/SourceCode/michelmetran.github.io')\n",
    "os.getcwd()"
   ]
  },
  {
   "cell_type": "code",
   "execution_count": null,
   "metadata": {},
   "outputs": [],
   "source": [
    "# Vai para a Pasta do Usuário\n",
    "os.path.expanduser('~')"
   ]
  },
  {
   "cell_type": "code",
   "execution_count": null,
   "metadata": {},
   "outputs": [],
   "source": [
    "# Vai para a pasta de um arquivo específicos\n",
    "os.path.dirname('/home/michel/Geodata/SourceCode/package_pandas/pandas.ipynb')"
   ]
  },
  {
   "cell_type": "code",
   "execution_count": null,
   "metadata": {},
   "outputs": [],
   "source": [
    "# Altera a pasta\n",
    "os.chdir('/home/michel/Documents/Geodata/SourceCode/package_os')\n",
    "os.getcwd()"
   ]
  },
  {
   "cell_type": "code",
   "execution_count": null,
   "metadata": {},
   "outputs": [],
   "source": [
    "from importlib import reload\n",
    "reload(os)"
   ]
  },
  {
   "cell_type": "markdown",
   "metadata": {},
   "source": [
    "## Pastas e Diretórios"
   ]
  },
  {
   "cell_type": "code",
   "execution_count": null,
   "metadata": {},
   "outputs": [],
   "source": [
    "# Cria Diretório\n",
    "import os\n",
    "os.makedirs('directory')"
   ]
  },
  {
   "cell_type": "code",
   "execution_count": null,
   "metadata": {},
   "outputs": [],
   "source": [
    "# Deleta Diretório com todo o conteúdo dentro\n",
    "import shutil\n",
    "shutil.rmtree('directory')"
   ]
  },
  {
   "cell_type": "markdown",
   "metadata": {},
   "source": [
    "## Try / Except"
   ]
  },
  {
   "cell_type": "code",
   "execution_count": null,
   "metadata": {},
   "outputs": [],
   "source": [
    "import os\n",
    "\n",
    "try:\n",
    "    os.rename(os.path.join(path, '1controle_anual_quantitativos_de_analises_2019.zip'),\n",
    "              os.path.join(path, '1controle_mensal_quantitativos_de_analises_anual_2019.zip'))\n",
    "    os.rename(os.path.join(path, '1controle_mensal_quantitativos_de_analises_2019.zip'),\n",
    "              os.path.join(path, '1controle_mensal_quantitativos_de_analises_mensal_2019.zip'))\n",
    "    \n",
    "except OSError:\n",
    "    print('Não deu pra renomear os arquivos')\n",
    "    \n",
    "else:\n",
    "    print('Arquivos renomeados!')"
   ]
  },
  {
   "cell_type": "markdown",
   "metadata": {},
   "source": [
    "## Loops"
   ]
  },
  {
   "cell_type": "code",
   "execution_count": null,
   "metadata": {},
   "outputs": [],
   "source": []
  },
  {
   "cell_type": "code",
   "execution_count": null,
   "metadata": {},
   "outputs": [],
   "source": []
  },
  {
   "cell_type": "code",
   "execution_count": null,
   "metadata": {},
   "outputs": [],
   "source": []
  },
  {
   "cell_type": "code",
   "execution_count": null,
   "metadata": {},
   "outputs": [],
   "source": []
  },
  {
   "cell_type": "markdown",
   "metadata": {},
   "source": [
    "## Print"
   ]
  },
  {
   "cell_type": "code",
   "execution_count": null,
   "metadata": {},
   "outputs": [],
   "source": [
    "print('Arquivo A exportado no formato B.')"
   ]
  },
  {
   "cell_type": "code",
   "execution_count": null,
   "metadata": {},
   "outputs": [],
   "source": [
    "print('Arquivo {} exportado no formato {}.'.format('A', 'B'))"
   ]
  },
  {
   "cell_type": "code",
   "execution_count": null,
   "metadata": {},
   "outputs": [],
   "source": [
    "print(\"Arquivo: '{1}' codificado em '{0}'\".format('tab', 'file_encoding'))"
   ]
  },
  {
   "cell_type": "markdown",
   "metadata": {},
   "source": [
    "# Jupyter"
   ]
  },
  {
   "cell_type": "code",
   "execution_count": null,
   "metadata": {},
   "outputs": [],
   "source": [
    "%run '../codes/files/create_folders.py'\n",
    "create_folders('', ['data', 'data/Dados Originais', 'docs', 'maps'])"
   ]
  },
  {
   "cell_type": "code",
   "execution_count": null,
   "metadata": {},
   "outputs": [],
   "source": [
    "# %load '../codes/files/export_jupyter.py'\n",
    "def export_jupyter(path, extensions=['html', 'markdown', 'latex', 'pdf', 'python'], today=True):\n",
    "    \"\"\"\n",
    "    Export .ipynb file to others formats\n",
    "    :return: File in other formats\n",
    "    \"\"\"\n",
    "    # Import Packages\n",
    "    import os\n",
    "    import datetime\n",
    "\n",
    "    # Data\n",
    "    timestamp = datetime.datetime.now()\n",
    "    srt_today = (str(timestamp.year) + '-' +\n",
    "                 str(f\"{timestamp.month:02d}\") + '-' +\n",
    "                 str(f\"{timestamp.day:02d}\"))\n",
    "\n",
    "    # Extensions\n",
    "    for extension in extensions:\n",
    "        if today==True:\n",
    "            os.system('jupyter nbconvert --to {} {} --output {}'.\n",
    "                      format(extension, get_jupyternotebook_name(),\n",
    "                             os.path.join(path, srt_today+'-'+get_jupyternotebook_name().split('.')[0])))\n",
    "            print('Arquivo {} exportado corretamente para o formato {} usando prefixo da data.'.\n",
    "                  format(get_jupyternotebook_name(), extension))\n",
    "\n",
    "        else:\n",
    "            os.system('jupyter nbconvert --to {} {} --output {}'.\n",
    "                      format(extension, get_jupyternotebook_name(),\n",
    "                             os.path.join(path, get_jupyternotebook_name().split('.')[0])))\n",
    "            print('Arquivo {} exportado corretamente para o formato {} sem usar prefixo da data.'.\n",
    "                  format(get_jupyternotebook_name(), extension))\n"
   ]
  },
  {
   "cell_type": "code",
   "execution_count": null,
   "metadata": {},
   "outputs": [],
   "source": [
    "# %load '../codes/files/get_jupyternotebook_name.py'\n",
    "def get_jupyternotebook_name():\n",
    "    \"\"\"\n",
    "    Returns the name of the current notebook as a string\n",
    "    From https://mail.scipy.org/pipermail/ipython-dev/2014-June/014096.html\n",
    "    :return: Returns the name of the current notebook as a string\n",
    "    \"\"\"\n",
    "    # Import Packages\n",
    "    from IPython.core.display import Javascript\n",
    "    from IPython.display import display\n",
    "\n",
    "    display(Javascript('IPython.notebook.kernel.execute(\"theNotebook = \" + \\\n",
    "    \"\\'\"+IPython.notebook.notebook_name+\"\\'\");'))\n",
    "\n",
    "    # Result\n",
    "    return theNotebook\n"
   ]
  },
  {
   "cell_type": "code",
   "execution_count": null,
   "metadata": {},
   "outputs": [],
   "source": [
    "export_jupyter('docs',['html', 'markdown', 'pdf', 'python'], False)\n",
    "#export_jupyter('docs', ['markdown'], True)"
   ]
  },
  {
   "cell_type": "code",
   "execution_count": null,
   "metadata": {},
   "outputs": [],
   "source": [
    "get_jupyternotebook_name()"
   ]
  },
  {
   "cell_type": "markdown",
   "metadata": {},
   "source": []
  },
  {
   "cell_type": "code",
   "execution_count": null,
   "metadata": {},
   "outputs": [],
   "source": []
  },
  {
   "cell_type": "code",
   "execution_count": null,
   "metadata": {},
   "outputs": [],
   "source": []
  },
  {
   "cell_type": "code",
   "execution_count": null,
   "metadata": {},
   "outputs": [],
   "source": []
  }
 ],
 "metadata": {
  "kernelspec": {
   "display_name": "Python 3",
   "language": "python",
   "name": "python3"
  },
  "language_info": {
   "codemirror_mode": {
    "name": "ipython",
    "version": 3
   },
   "file_extension": ".py",
   "mimetype": "text/x-python",
   "name": "python",
   "nbconvert_exporter": "python",
   "pygments_lexer": "ipython3",
   "version": "3.8.2"
  },
  "toc": {
   "base_numbering": 1,
   "nav_menu": {},
   "number_sections": true,
   "sideBar": true,
   "skip_h1_title": false,
   "title_cell": "Table of Contents",
   "title_sidebar": "Contents",
   "toc_cell": false,
   "toc_position": {},
   "toc_section_display": true,
   "toc_window_display": true
  }
 },
 "nbformat": 4,
 "nbformat_minor": 4
}
